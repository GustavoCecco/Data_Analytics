{
 "cells": [
  {
   "cell_type": "markdown",
   "id": "81d6b708-49b8-4098-af28-63c043e0c4f5",
   "metadata": {
    "nteract": {
     "transient": {
      "deleting": false
     }
    }
   },
   "source": [
    "# <mark></mark>Processamento da Camada Bronze – API de Eventos Sísmicos Globais"
   ]
  },
  {
   "cell_type": "code",
   "execution_count": null,
   "id": "1d6b3c33-bb83-49ed-9f67-3cbfbd268a4a",
   "metadata": {
    "jupyter": {
     "outputs_hidden": false,
     "source_hidden": false
    },
    "nteract": {
     "transient": {
      "deleting": false
     }
    }
   },
   "outputs": [],
   "source": [
    "import requests\n",
    "import json\n",
    "\n",
    "# Construção da URL da API com as datas de início e fim fornecidas pelo Data Factory, formatada para saída em geojson.\n",
    "url = f\"https://earthquake.usgs.gov/fdsnws/event/1/query?format=geojson&starttime={start_date}&endtime={end_date}\"\n",
    "\n",
    "# Requisição GET para buscar os dados\n",
    "response = requests.get(url)\n",
    "\n",
    "# Verifica se a requisição foi bem-sucedida\n",
    "if response.status_code == 200:\n",
    "   \n",
    "    data = response.json()\n",
    "    data = data['features']\n",
    "    \n",
    "    # Especifica o nome do arquivo e o caminho, se necessário\n",
    "    file_path = f'/lakehouse/default/Files/{start_date}_dados_terremotos.json'\n",
    "    \n",
    "    with open(file_path, 'w') as file:\n",
    "        # O método `json.dump` serializa a `data` como um fluxo formatado em JSON para o `arquivo`\n",
    "        # `indent=4` torna o arquivo legível para humanos, adicionando espaçamento\n",
    "        json.dump(data, file, indent=4)\n",
    "        \n",
    "    print(f\"Dados salvos com sucesso em: {file_path}\")\n",
    "else:\n",
    "    print(\"Falha ao salvar dados. Código do status:\", response.status_code)"
   ]
  }
 ],
 "metadata": {
  "dependencies": {
   "lakehouse": {}
  },
  "kernel_info": {
   "name": "synapse_pyspark"
  },
  "kernelspec": {
   "display_name": "Synapse PySpark",
   "language": "Python",
   "name": "synapse_pyspark"
  },
  "language_info": {
   "name": "python"
  },
  "microsoft": {
   "language": "python",
   "ms_spell_check": {
    "ms_spell_check_language": "en"
   }
  },
  "nteract": {
   "version": "nteract-front-end@1.0.0"
  },
  "spark_compute": {
   "compute_id": "/trident/default"
  },
  "synapse_widget": {
   "state": {},
   "version": "0.1"
  },
  "widgets": {}
 },
 "nbformat": 4,
 "nbformat_minor": 5
}
