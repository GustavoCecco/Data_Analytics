{
 "cells": [
  {
   "cell_type": "code",
   "execution_count": 9,
   "metadata": {},
   "outputs": [
    {
     "name": "stdout",
     "output_type": "stream",
     "text": [
      "Arquivo CSV consolidado criado com sucesso.\n"
     ]
    }
   ],
   "source": [
    "# Coleta e geração do CSV consolidado\n",
    "\n",
    "import pandas as pd\n",
    "import json\n",
    "\n",
    "# Carregar dados do JSON de países\n",
    "with open('/Coleta de Dados/fase01/country.json', 'r') as file:\n",
    "    country_data = json.load(file)\n",
    "\n",
    "# Carregar dados do CSV de PIB\n",
    "gdp_data = pd.read_csv('/Coleta de Dados/fase01/gdp_data.csv')\n",
    "\n",
    "data = []\n",
    "\n",
    "# Iterar sobre os dados dos países e consolidar informações\n",
    "for code, info in country_data.items():\n",
    "    country_info = {\n",
    "        'codigo': code,\n",
    "        'nome': info.get('name'),\n",
    "        'populacao': info.get('population'),\n",
    "        'capital': info.get('capital'),\n",
    "        'area': info.get('area'),\n",
    "        'continente': info.get('continent')\n",
    "    }\n",
    "    # Adicionando os dados de PIB\n",
    "    if code in gdp_data['Country Code'].values:\n",
    "        country_gdp = gdp_data[gdp_data['Country Code'] == code].iloc[:, 4:].to_dict('records')[0]\n",
    "        country_info.update(country_gdp)\n",
    "    else:\n",
    "        # Se o país não tiver dados de PIB, adicionar colunas com NaN\n",
    "        for year in range(1960, 2022):\n",
    "            country_info[str(year)] = None\n",
    "\n",
    "    data.append(country_info)\n",
    "\n",
    "# Criando DataFrame com os dados consolidados\n",
    "df = pd.DataFrame(data)\n",
    "\n",
    "\n",
    "df.to_csv('/Coleta de Dados/fase01/consolidated_country_data.csv', index=False)\n",
    "\n",
    "print(\"Arquivo CSV consolidado criado com sucesso.\")\n"
   ]
  }
 ],
 "metadata": {
  "kernelspec": {
   "display_name": "Python 3",
   "language": "python",
   "name": "python3"
  },
  "language_info": {
   "codemirror_mode": {
    "name": "ipython",
    "version": 3
   },
   "file_extension": ".py",
   "mimetype": "text/x-python",
   "name": "python",
   "nbconvert_exporter": "python",
   "pygments_lexer": "ipython3",
   "version": "3.12.2"
  }
 },
 "nbformat": 4,
 "nbformat_minor": 2
}
